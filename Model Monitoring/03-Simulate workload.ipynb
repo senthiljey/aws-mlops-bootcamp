{
 "cells": [
  {
   "cell_type": "markdown",
   "id": "007f63d4",
   "metadata": {},
   "source": [
    "# Create events"
   ]
  },
  {
   "cell_type": "code",
   "execution_count": 7,
   "id": "67c315af",
   "metadata": {},
   "outputs": [],
   "source": [
    "import json\n",
    "import random\n",
    "import time\n",
    "from datetime import datetime, timedelta\n",
    "from threading import Thread\n",
    "from uuid import uuid4\n",
    "\n",
    "import pandas as pd\n",
    "import sagemaker"
   ]
  },
  {
   "cell_type": "markdown",
   "id": "b76741ab",
   "metadata": {},
   "source": [
    "### Useful objects and variables"
   ]
  },
  {
   "cell_type": "code",
   "execution_count": 3,
   "id": "c69d0eef",
   "metadata": {},
   "outputs": [],
   "source": [
    "session = sagemaker.Session()\n",
    "sm_client = session.sagemaker_client\n",
    "role = sagemaker.get_execution_role()\n",
    "bucket = session.default_bucket()\n",
    "region = session.boto_region_name"
   ]
  },
  {
   "cell_type": "code",
   "execution_count": 14,
   "id": "d7cc8136",
   "metadata": {
    "tags": []
   },
   "outputs": [],
   "source": [
    "prefix = \"nlp-model-monitor-demo\"\n",
    "model_package_group_name = prefix"
   ]
  },
  {
   "cell_type": "code",
   "execution_count": 15,
   "id": "62ec75ff",
   "metadata": {},
   "outputs": [],
   "source": [
    "model_monitor_uri = f\"s3://{bucket}/{prefix}/model_monitor\""
   ]
  },
  {
   "cell_type": "code",
   "execution_count": 4,
   "id": "7d5bd4b1",
   "metadata": {},
   "outputs": [],
   "source": [
    "%store -r endpoint_name"
   ]
  },
  {
   "cell_type": "markdown",
   "id": "b928a09f",
   "metadata": {},
   "source": [
    "## Predictor for the endpoint"
   ]
  },
  {
   "cell_type": "code",
   "execution_count": 5,
   "id": "5b20bd6a",
   "metadata": {},
   "outputs": [],
   "source": [
    "predictor = sagemaker.predictor.Predictor(\n",
    "    endpoint_name=endpoint_name,\n",
    "    serializer=sagemaker.serializers.JSONSerializer(),\n",
    "    deserializer=sagemaker.deserializers.JSONDeserializer(),\n",
    ")"
   ]
  },
  {
   "cell_type": "code",
   "execution_count": 6,
   "id": "6120e77c",
   "metadata": {},
   "outputs": [
    {
     "data": {
      "text/plain": [
       "{'output': 3}"
      ]
     },
     "execution_count": 6,
     "metadata": {},
     "output_type": "execute_result"
    }
   ],
   "source": [
    "predictor.predict({\"inputs\": \"another short sentence\"}, inference_id=\"test_id\")"
   ]
  },
  {
   "cell_type": "markdown",
   "id": "4cce3ca9",
   "metadata": {},
   "source": [
    "## Create invocations"
   ]
  },
  {
   "cell_type": "code",
   "execution_count": 8,
   "id": "edd382cc",
   "metadata": {},
   "outputs": [],
   "source": [
    "df_test = pd.read_csv(\n",
    "    \"ag_news_csv/test.csv\",\n",
    "    header=None,\n",
    "    names=[\"label\", \"title\", \"text\"],\n",
    ")"
   ]
  },
  {
   "cell_type": "code",
   "execution_count": 22,
   "id": "116a9af4",
   "metadata": {},
   "outputs": [],
   "source": [
    "def gen_event(skewed: bool = False):\n",
    "    line = df_test.sample(n=1)\n",
    "    data = dict(inputs=line.text.values)\n",
    "    inference_id = uuid4().hex\n",
    "    gt = line.label.values[0] - 1\n",
    "    if skewed:\n",
    "        gt = random.randint(0, 3)\n",
    "    gt_payload = {\n",
    "        \"groundTruthData\": {\n",
    "            \"data\": f\"{gt}\",\n",
    "            \"encoding\": \"CSV\",\n",
    "        },\n",
    "        \"eventMetadata\": {\n",
    "            \"eventId\": f\"{inference_id}\",\n",
    "        },\n",
    "        \"eventVersion\": \"0\",\n",
    "    }\n",
    "\n",
    "    return {\"data\": data, \"inference_id\": inference_id}, gt_payload\n",
    "\n",
    "\n",
    "def upload_gt(base_path_uri, gt_payload, delay_mins: int = 10):\n",
    "    gt_time = datetime.utcnow() + timedelta(minutes=delay_mins)\n",
    "    target_s3_uri = f\"{base_path_uri}/{gt_time:%Y/%m/%d/%H/%M%S}.jsonl\"\n",
    "    return sagemaker.s3.S3Uploader.upload_string_as_file_body(json.dumps(gt_payload), target_s3_uri)\n",
    "\n",
    "\n",
    "def simulate_event(skewed: bool = False):\n",
    "    endpoint_payload, gt_payload = gen_event(skewed)\n",
    "    pred = predictor.predict(**endpoint_payload)\n",
    "    base_path_uri = f\"{model_monitor_uri}/ground_truth\"\n",
    "    gt_uri = upload_gt(base_path_uri, gt_payload)\n",
    "    return pred, gt_uri\n",
    "\n",
    "\n",
    "def generate_fake_events(testing=False):\n",
    "    while not stop_flag:\n",
    "        simulate_event(skew)\n",
    "        time.sleep(sleeping_time)\n",
    "        if testing:\n",
    "            break"
   ]
  },
  {
   "cell_type": "code",
   "execution_count": 17,
   "id": "aa5a057e",
   "metadata": {},
   "outputs": [
    {
     "data": {
      "text/plain": [
       "({'data': {'inputs': array(['LONDON, November 30 (newratings.com) - Pinault-Printemps Redoute SA (PPX.FSE) plans to sell its controlling stake in the electrical parts distributor, Rexel (RXL), to a group of private firms for 1.92 billion (\\\\$2.55 billion).'],\n",
       "         dtype=object)},\n",
       "  'inference_id': '8e97b4e9aef04fe2add59ed38434d6f5'},\n",
       " {'groundTruthData': {'data': '1', 'encoding': 'CSV'},\n",
       "  'eventMetadata': {'eventId': '8e97b4e9aef04fe2add59ed38434d6f5'},\n",
       "  'eventVersion': '0'})"
      ]
     },
     "execution_count": 17,
     "metadata": {},
     "output_type": "execute_result"
    }
   ],
   "source": [
    "# simulate_event()\n",
    "gen_event(skewed=True)"
   ]
  },
  {
   "cell_type": "code",
   "execution_count": 18,
   "id": "a25c5e58",
   "metadata": {},
   "outputs": [],
   "source": [
    "stop_flag = False\n",
    "skew = False\n",
    "sleeping_time = 0.1"
   ]
  },
  {
   "cell_type": "code",
   "execution_count": 23,
   "id": "4b313629",
   "metadata": {},
   "outputs": [
    {
     "data": {
      "text/plain": [
       "[None, None, None, None]"
      ]
     },
     "execution_count": 23,
     "metadata": {},
     "output_type": "execute_result"
    }
   ],
   "source": [
    "threads = [Thread(target=generate_fake_events) for _ in range(4)]\n",
    "[thread.start() for thread in threads]"
   ]
  },
  {
   "cell_type": "code",
   "execution_count": 24,
   "id": "e8f420b8",
   "metadata": {},
   "outputs": [
    {
     "data": {
      "text/plain": [
       "[True, True, True, True]"
      ]
     },
     "execution_count": 24,
     "metadata": {},
     "output_type": "execute_result"
    }
   ],
   "source": [
    "[thread.is_alive() for thread in threads]"
   ]
  },
  {
   "cell_type": "code",
   "execution_count": 37,
   "id": "aca67178",
   "metadata": {},
   "outputs": [],
   "source": [
    "stop_flag = True"
   ]
  }
 ],
 "metadata": {
  "instance_type": "ml.t3.medium",
  "kernelspec": {
   "display_name": "conda_python3",
   "language": "python",
   "name": "conda_python3"
  },
  "language_info": {
   "codemirror_mode": {
    "name": "ipython",
    "version": 3
   },
   "file_extension": ".py",
   "mimetype": "text/x-python",
   "name": "python",
   "nbconvert_exporter": "python",
   "pygments_lexer": "ipython3",
   "version": "3.8.12"
  }
 },
 "nbformat": 4,
 "nbformat_minor": 5
}
