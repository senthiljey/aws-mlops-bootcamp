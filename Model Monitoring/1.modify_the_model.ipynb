{
 "cells": [
  {
   "cell_type": "markdown",
   "id": "585a7060",
   "metadata": {},
   "source": [
    "## Create an endpoint from the project"
   ]
  },
  {
   "cell_type": "code",
   "execution_count": null,
   "id": "1d27448f",
   "metadata": {},
   "outputs": [],
   "source": []
  }
 ],
 "metadata": {
  "kernelspec": {
   "display_name": "conda_python3",
   "language": "python",
   "name": "conda_python3"
  },
  "language_info": {
   "codemirror_mode": {
    "name": "ipython",
    "version": 3
   },
   "file_extension": ".py",
   "mimetype": "text/x-python",
   "name": "python",
   "nbconvert_exporter": "python",
   "pygments_lexer": "ipython3",
   "version": "3.8.12"
  }
 },
 "nbformat": 4,
 "nbformat_minor": 5
}
